{
 "cells": [
  {
   "cell_type": "code",
   "execution_count": null,
   "id": "dc6c74bc-0374-4a8d-a84b-5e34b049ea86",
   "metadata": {},
   "outputs": [],
   "source": [
    "# RUN THIS CELL FIRST or the notebook won't work\n",
    "!pip install geopandas\n",
    "import numpy as np\n",
    "import pandas as pd\n",
    "import geopandas as gpd\n",
    "from IPython.display import display\n",
    "import matplotlib.pyplot as plt\n",
    "\n",
    "# These help the maps display nicely in the notebook\n",
    "%matplotlib inline\n",
    "plt.rcParams['figure.figsize'] = [30, 20]\n",
    "\n",
    "# This line tells iPython to not display warnings.\n",
    "import warnings\n",
    "warnings.filterwarnings('ignore')"
   ]
  },
  {
   "cell_type": "code",
   "execution_count": null,
   "id": "8ce09d8a-7afd-4af2-b905-c83576550568",
   "metadata": {},
   "outputs": [],
   "source": [
    "ri = gpd.read_file('tl_2020_44_tract')\n",
    "ri"
   ]
  },
  {
   "cell_type": "code",
   "execution_count": 3,
   "id": "4db5bd87-2b4c-4aa8-9806-429e0b7530b3",
   "metadata": {},
   "outputs": [
    {
     "name": "stdout",
     "output_type": "stream",
     "text": [
      "<class 'geopandas.geodataframe.GeoDataFrame'>\n",
      "Int64Index: 145 entries, 59 to 249\n",
      "Data columns (total 13 columns):\n",
      " #   Column    Non-Null Count  Dtype   \n",
      "---  ------    --------------  -----   \n",
      " 0   STATEFP   145 non-null    object  \n",
      " 1   COUNTYFP  145 non-null    object  \n",
      " 2   TRACTCE   145 non-null    object  \n",
      " 3   GEOID     145 non-null    object  \n",
      " 4   NAME      145 non-null    object  \n",
      " 5   NAMELSAD  145 non-null    object  \n",
      " 6   MTFCC     145 non-null    object  \n",
      " 7   FUNCSTAT  145 non-null    object  \n",
      " 8   ALAND     145 non-null    int64   \n",
      " 9   AWATER    145 non-null    int64   \n",
      " 10  INTPTLAT  145 non-null    object  \n",
      " 11  INTPTLON  145 non-null    object  \n",
      " 12  geometry  145 non-null    geometry\n",
      "dtypes: geometry(1), int64(2), object(10)\n",
      "memory usage: 15.9+ KB\n"
     ]
    }
   ],
   "source": [
    "pvdCounty = ri[ri.COUNTYFP=='007']\n",
    "pvdCounty.info()"
   ]
  },
  {
   "cell_type": "code",
   "execution_count": null,
   "id": "b5a8ad06-293b-4488-b57b-0467901ed7d1",
   "metadata": {},
   "outputs": [],
   "source": [
    "pvdCounty['NAME']= pvdCounty['NAME'].astype(str).astype(float)"
   ]
  },
  {
   "cell_type": "code",
   "execution_count": null,
   "id": "d02bac6a-3069-4810-ad48-0bf1221a9cf6",
   "metadata": {},
   "outputs": [],
   "source": [
    "pvd = pvdCounty[pvdCounty.NAME < 40]"
   ]
  },
  {
   "cell_type": "code",
   "execution_count": null,
   "id": "2ae5883b-ee0d-4812-9e0b-355589b7f45c",
   "metadata": {},
   "outputs": [],
   "source": [
    "pvd.plot(legend=True)"
   ]
  }
 ],
 "metadata": {
  "kernelspec": {
   "display_name": "Python 3 (ipykernel)",
   "language": "python",
   "name": "python3"
  },
  "language_info": {
   "codemirror_mode": {
    "name": "ipython",
    "version": 3
   },
   "file_extension": ".py",
   "mimetype": "text/x-python",
   "name": "python",
   "nbconvert_exporter": "python",
   "pygments_lexer": "ipython3",
   "version": "3.9.7"
  }
 },
 "nbformat": 4,
 "nbformat_minor": 5
}
